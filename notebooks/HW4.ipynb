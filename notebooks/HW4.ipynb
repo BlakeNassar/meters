{
 "cells": [
  {
   "cell_type": "code",
   "execution_count": 56,
   "metadata": {},
   "outputs": [
    {
     "data": {
      "text/plain": [
       "'C:\\\\Users\\\\nassa\\\\OneDrive\\\\Desktop\\\\Git_Repos\\\\ChE4230_HW3\\\\meters'"
      ]
     },
     "execution_count": 56,
     "metadata": {},
     "output_type": "execute_result"
    }
   ],
   "source": [
    "import sys\n",
    "import os\n",
    "os.chdir(\"C:/Users/nassa/OneDrive/Desktop/Git_Repos/ChE4230_HW3/meters/notebooks\")\n",
    "os.chdir(\"../\")\n",
    "\n",
    "os.getcwd()"
   ]
  },
  {
   "cell_type": "code",
   "execution_count": 63,
   "metadata": {},
   "outputs": [],
   "source": [
    "from sklearn.model_selection import train_test_split\n",
    "from sklearn.preprocessing import StandardScaler\n",
    "from sklearn import tree\n",
    "\n",
    "from source.data_preprocess import DataPreprocessing\n",
    "from source.ModelBuilder2 import ModelBuilder2"
   ]
  },
  {
   "cell_type": "code",
   "execution_count": 58,
   "metadata": {},
   "outputs": [
    {
     "name": "stdout",
     "output_type": "stream",
     "text": [
      "         0         1         2         3          4          5         6   \\\n",
      "0  0.841499  1.009367  0.993816  8.469805  10.278727  10.037759  8.501365   \n",
      "1  0.842250  1.006584  0.996605  7.531891   9.139924   8.951618  7.612213   \n",
      "2  0.840723  1.011647  0.998152  6.641699   7.975464   7.857692  6.593117   \n",
      "3  0.841119  1.017807  0.996812  5.687524   6.824334   6.689885  5.615428   \n",
      "4  0.840358  1.016534  0.996221  5.660385   6.829560   6.675628  5.623977   \n",
      "\n",
      "         7          8          9   ...         27         28         29  \\\n",
      "0  8.581726  10.247763  10.058822  ...  32.451173  34.568685  33.082683   \n",
      "1  7.623325   9.106345   8.945142  ...  32.428385  34.441732  33.081055   \n",
      "2  6.681572   7.964596   7.814698  ...  32.428385  34.275715  33.113605   \n",
      "3  5.763315   6.801051   6.686639  ...  32.485350  34.080403  33.170573   \n",
      "4  5.736818   6.813453   6.672377  ...  32.503255  34.122720  33.164062   \n",
      "\n",
      "          30         31         32         33         34         35  36  \n",
      "0  36.722005  36.969403  36.075847  36.051432  35.174155  32.729490   1  \n",
      "1  36.687825  36.933595  36.054688  35.979818  34.847005  32.731122   1  \n",
      "2  36.661785  36.873370  36.002605  35.963542  34.689128  32.771810   1  \n",
      "3  36.673177  36.811525  35.974935  35.955403  34.500328  32.849935   1  \n",
      "4  36.673177  36.826173  35.996095  35.968425  34.474283  32.853190   1  \n",
      "\n",
      "[5 rows x 37 columns]\n"
     ]
    }
   ],
   "source": [
    "preprocessor = DataPreprocessing()\n",
    "\n",
    "data = preprocessor.load_data('data/Meter_A.txt')"
   ]
  },
  {
   "cell_type": "code",
   "execution_count": 59,
   "metadata": {},
   "outputs": [],
   "source": [
    "train_validation, test = train_test_split(data, test_size = 0.2, random_state=12)\n",
    "\n",
    "train, validation = train_test_split(train_validation, test_size = 0.2, random_state=99)"
   ]
  },
  {
   "cell_type": "code",
   "execution_count": 60,
   "metadata": {},
   "outputs": [],
   "source": [
    "scaler = StandardScaler().fit(train[:, :-1])\n",
    "\n",
    "train_scaled = scaler.transform(train[:, :-1])"
   ]
  },
  {
   "cell_type": "code",
   "execution_count": 64,
   "metadata": {},
   "outputs": [
    {
     "ename": "TypeError",
     "evalue": "MLPClassifier.predict() takes 2 positional arguments but 3 were given",
     "output_type": "error",
     "traceback": [
      "\u001b[1;31m---------------------------------------------------------------------------\u001b[0m",
      "\u001b[1;31mTypeError\u001b[0m                                 Traceback (most recent call last)",
      "Cell \u001b[1;32mIn[64], line 3\u001b[0m\n\u001b[0;32m      1\u001b[0m modelbuilder \u001b[39m=\u001b[39m ModelBuilder2()\n\u001b[1;32m----> 3\u001b[0m ann_model \u001b[39m=\u001b[39m modelbuilder\u001b[39m.\u001b[39;49mann(X_train\u001b[39m=\u001b[39;49mtrain[:, :\u001b[39m-\u001b[39;49m\u001b[39m1\u001b[39;49m], X_test\u001b[39m=\u001b[39;49mvalidation[:, :\u001b[39m-\u001b[39;49m\u001b[39m1\u001b[39;49m], y_train\u001b[39m=\u001b[39;49mtrain[:, \u001b[39m-\u001b[39;49m\u001b[39m1\u001b[39;49m], y_test \u001b[39m=\u001b[39;49m validation[:, \u001b[39m-\u001b[39;49m\u001b[39m1\u001b[39;49m])\n",
      "File \u001b[1;32mc:\\Users\\nassa\\OneDrive\\Desktop\\Git_Repos\\ChE4230_HW3\\meters\\source\\ModelBuilder2.py:16\u001b[0m, in \u001b[0;36mModelBuilder2.ann\u001b[1;34m(self, X_train, X_test, y_train, y_test)\u001b[0m\n\u001b[0;32m     12\u001b[0m clf \u001b[39m=\u001b[39m MLPClassifier(solver\u001b[39m=\u001b[39m\u001b[39m'\u001b[39m\u001b[39mlbfgs\u001b[39m\u001b[39m'\u001b[39m, alpha\u001b[39m=\u001b[39m\u001b[39m1e-5\u001b[39m,hidden_layer_sizes\u001b[39m=\u001b[39m(\u001b[39m5\u001b[39m, \u001b[39m2\u001b[39m), random_state\u001b[39m=\u001b[39m\u001b[39m1\u001b[39m)\n\u001b[0;32m     14\u001b[0m clf\u001b[39m.\u001b[39mfit(X_train,y_train)\n\u001b[1;32m---> 16\u001b[0m ann_predicted \u001b[39m=\u001b[39m clf\u001b[39m.\u001b[39;49mpredict(X_test,y_test)\n\u001b[0;32m     18\u001b[0m error \u001b[39m=\u001b[39m \u001b[39m0\u001b[39m\n\u001b[0;32m     19\u001b[0m \u001b[39mfor\u001b[39;00m i \u001b[39min\u001b[39;00m \u001b[39mrange\u001b[39m(\u001b[39mlen\u001b[39m(y_test)):\n",
      "\u001b[1;31mTypeError\u001b[0m: MLPClassifier.predict() takes 2 positional arguments but 3 were given"
     ]
    }
   ],
   "source": [
    "modelbuilder = ModelBuilder2()\n",
    "\n",
    "ann_model = modelbuilder.ann(X_train=train[:, :-1], X_test=validation[:, :-1], y_train=train[:, -1], y_test = validation[:, -1])\n"
   ]
  }
 ],
 "metadata": {
  "kernelspec": {
   "display_name": "ChE4230",
   "language": "python",
   "name": "python3"
  },
  "language_info": {
   "codemirror_mode": {
    "name": "ipython",
    "version": 3
   },
   "file_extension": ".py",
   "mimetype": "text/x-python",
   "name": "python",
   "nbconvert_exporter": "python",
   "pygments_lexer": "ipython3",
   "version": "3.11.0"
  },
  "orig_nbformat": 4,
  "vscode": {
   "interpreter": {
    "hash": "746b2efdc1702fc56312ef124413f9e91e8f265bb12060389aade4a583314f2d"
   }
  }
 },
 "nbformat": 4,
 "nbformat_minor": 2
}
