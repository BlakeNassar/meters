{
 "cells": [
  {
   "cell_type": "code",
   "execution_count": 17,
   "metadata": {},
   "outputs": [
    {
     "data": {
      "text/plain": [
       "'C:\\\\Users\\\\nassa\\\\OneDrive\\\\Desktop\\\\Git_Repos\\\\ChE4230_HW3\\\\meters'"
      ]
     },
     "execution_count": 17,
     "metadata": {},
     "output_type": "execute_result"
    }
   ],
   "source": [
    "import sys\n",
    "import os\n",
    "os.chdir(\"C:/Users/nassa/OneDrive/Desktop/Git_Repos/ChE4230_HW3/meters/notebooks\")\n",
    "os.chdir(\"../\")\n",
    "\n",
    "os.getcwd()"
   ]
  },
  {
   "cell_type": "code",
   "execution_count": 18,
   "metadata": {},
   "outputs": [],
   "source": [
    "from sklearn.model_selection import train_test_split\n",
    "from sklearn.preprocessing import StandardScaler\n",
    "from sklearn import tree\n",
    "\n",
    "from source.data_preprocess import DataPreprocessing\n",
    "from source.ModelBuilder2 import ModelBuilder2"
   ]
  },
  {
   "cell_type": "code",
   "execution_count": 19,
   "metadata": {},
   "outputs": [
    {
     "name": "stdout",
     "output_type": "stream",
     "text": [
      "         0         1         2         3          4          5         6   \\\n",
      "0  0.841499  1.009367  0.993816  8.469805  10.278727  10.037759  8.501365   \n",
      "1  0.842250  1.006584  0.996605  7.531891   9.139924   8.951618  7.612213   \n",
      "2  0.840723  1.011647  0.998152  6.641699   7.975464   7.857692  6.593117   \n",
      "3  0.841119  1.017807  0.996812  5.687524   6.824334   6.689885  5.615428   \n",
      "4  0.840358  1.016534  0.996221  5.660385   6.829560   6.675628  5.623977   \n",
      "\n",
      "         7          8          9   ...         27         28         29  \\\n",
      "0  8.581726  10.247763  10.058822  ...  32.451173  34.568685  33.082683   \n",
      "1  7.623325   9.106345   8.945142  ...  32.428385  34.441732  33.081055   \n",
      "2  6.681572   7.964596   7.814698  ...  32.428385  34.275715  33.113605   \n",
      "3  5.763315   6.801051   6.686639  ...  32.485350  34.080403  33.170573   \n",
      "4  5.736818   6.813453   6.672377  ...  32.503255  34.122720  33.164062   \n",
      "\n",
      "          30         31         32         33         34         35  36  \n",
      "0  36.722005  36.969403  36.075847  36.051432  35.174155  32.729490   1  \n",
      "1  36.687825  36.933595  36.054688  35.979818  34.847005  32.731122   1  \n",
      "2  36.661785  36.873370  36.002605  35.963542  34.689128  32.771810   1  \n",
      "3  36.673177  36.811525  35.974935  35.955403  34.500328  32.849935   1  \n",
      "4  36.673177  36.826173  35.996095  35.968425  34.474283  32.853190   1  \n",
      "\n",
      "[5 rows x 37 columns]\n"
     ]
    }
   ],
   "source": [
    "preprocessor = DataPreprocessing()\n",
    "\n",
    "data = preprocessor.load_data('data/Meter_A.txt')"
   ]
  },
  {
   "cell_type": "code",
   "execution_count": 20,
   "metadata": {},
   "outputs": [],
   "source": [
    "train_validation, test = train_test_split(data, test_size = 0.2, random_state=12)\n",
    "\n",
    "train, validation = train_test_split(train_validation, test_size = 0.2, random_state=99)"
   ]
  },
  {
   "cell_type": "code",
   "execution_count": 21,
   "metadata": {},
   "outputs": [],
   "source": [
    "scaler = StandardScaler().fit(train[:, :-1])\n",
    "\n",
    "train_scaled = scaler.transform(train[:, :-1])\n",
    "test_scaled = scaler.transform(test[:,:-1])"
   ]
  },
  {
   "cell_type": "code",
   "execution_count": 22,
   "metadata": {},
   "outputs": [
    {
     "ename": "ValueError",
     "evalue": "Unknown label type: (array([ 1.29292468, -1.29775896, -0.91777586,  0.56753982, -0.12331067,\n        0.76327338, -0.4226588 , -0.2960292 , -1.21713574,  0.13001927,\n       -0.8602266 , -0.38813632, -0.66446948, -1.22867863, -0.41116309,\n        0.82085802, -1.36682749,  1.07416433, -0.66445766, -0.19237926,\n        1.25839038,  0.30271417,  1.02812259, -0.6414427 , -0.28449812,\n       -0.89476083, -1.65469172,  0.11851175,  1.3504975 , -0.35359027,\n        0.84387298,  0.0494196 , -0.66446948,  1.03963011, -0.92929512,\n        0.26816813,  1.52320421, -0.7220423 , -0.7220423 , -0.37661705,\n        1.86862953, -0.18087175, -1.79286421,  1.16627145,  1.96074839,\n        1.15477575,  1.99527087,  0.70572412, -0.91778761, -0.90625653,\n       -1.85041348,  0.94751118, -0.37661705,  1.26990964, -0.18088356]),)",
     "output_type": "error",
     "traceback": [
      "\u001b[1;31m---------------------------------------------------------------------------\u001b[0m",
      "\u001b[1;31mValueError\u001b[0m                                Traceback (most recent call last)",
      "Cell \u001b[1;32mIn[22], line 3\u001b[0m\n\u001b[0;32m      1\u001b[0m modelbuilder \u001b[39m=\u001b[39m ModelBuilder2()\n\u001b[1;32m----> 3\u001b[0m ann_model \u001b[39m=\u001b[39m modelbuilder\u001b[39m.\u001b[39;49mann(X_train\u001b[39m=\u001b[39;49mtrain_scaled[:, :\u001b[39m-\u001b[39;49m\u001b[39m1\u001b[39;49m], X_test\u001b[39m=\u001b[39;49mtest_scaled[:, :\u001b[39m-\u001b[39;49m\u001b[39m1\u001b[39;49m], y_train\u001b[39m=\u001b[39;49mtrain_scaled[:, \u001b[39m-\u001b[39;49m\u001b[39m1\u001b[39;49m], y_test \u001b[39m=\u001b[39;49m test_scaled[:, \u001b[39m-\u001b[39;49m\u001b[39m1\u001b[39;49m])\n\u001b[0;32m      5\u001b[0m modelbuilder\u001b[39m.\u001b[39maccuracy\n",
      "File \u001b[1;32m~\\OneDrive\\Desktop\\Git_Repos\\ChE4230_HW3\\meters\\source\\ModelBuilder2.py:14\u001b[0m, in \u001b[0;36mModelBuilder2.ann\u001b[1;34m(self, X_train, X_test, y_train, y_test)\u001b[0m\n\u001b[0;32m     10\u001b[0m \u001b[39mdef\u001b[39;00m \u001b[39mann\u001b[39m(\u001b[39mself\u001b[39m, X_train,X_test,y_train,y_test):\n\u001b[0;32m     12\u001b[0m     clf \u001b[39m=\u001b[39m MLPClassifier(solver\u001b[39m=\u001b[39m\u001b[39m'\u001b[39m\u001b[39mlbfgs\u001b[39m\u001b[39m'\u001b[39m, alpha\u001b[39m=\u001b[39m\u001b[39m1e-5\u001b[39m,hidden_layer_sizes\u001b[39m=\u001b[39m(\u001b[39m5\u001b[39m, \u001b[39m2\u001b[39m), random_state\u001b[39m=\u001b[39m\u001b[39m1\u001b[39m)\n\u001b[1;32m---> 14\u001b[0m     clf\u001b[39m.\u001b[39;49mfit(X_train,y_train)\n\u001b[0;32m     16\u001b[0m     ann_predicted \u001b[39m=\u001b[39m clf\u001b[39m.\u001b[39mpredict(X_test)\n\u001b[0;32m     18\u001b[0m     error \u001b[39m=\u001b[39m \u001b[39m0\u001b[39m\n",
      "File \u001b[1;32mc:\\Users\\nassa\\anaconda3\\envs\\ChE4230\\Lib\\site-packages\\sklearn\\neural_network\\_multilayer_perceptron.py:747\u001b[0m, in \u001b[0;36mBaseMultilayerPerceptron.fit\u001b[1;34m(self, X, y)\u001b[0m\n\u001b[0;32m    729\u001b[0m \u001b[39m\u001b[39m\u001b[39m\"\"\"Fit the model to data matrix X and target(s) y.\u001b[39;00m\n\u001b[0;32m    730\u001b[0m \n\u001b[0;32m    731\u001b[0m \u001b[39mParameters\u001b[39;00m\n\u001b[1;32m   (...)\u001b[0m\n\u001b[0;32m    743\u001b[0m \u001b[39m    Returns a trained MLP model.\u001b[39;00m\n\u001b[0;32m    744\u001b[0m \u001b[39m\"\"\"\u001b[39;00m\n\u001b[0;32m    745\u001b[0m \u001b[39mself\u001b[39m\u001b[39m.\u001b[39m_validate_params()\n\u001b[1;32m--> 747\u001b[0m \u001b[39mreturn\u001b[39;00m \u001b[39mself\u001b[39;49m\u001b[39m.\u001b[39;49m_fit(X, y, incremental\u001b[39m=\u001b[39;49m\u001b[39mFalse\u001b[39;49;00m)\n",
      "File \u001b[1;32mc:\\Users\\nassa\\anaconda3\\envs\\ChE4230\\Lib\\site-packages\\sklearn\\neural_network\\_multilayer_perceptron.py:437\u001b[0m, in \u001b[0;36mBaseMultilayerPerceptron._fit\u001b[1;34m(self, X, y, incremental)\u001b[0m\n\u001b[0;32m    430\u001b[0m     \u001b[39mraise\u001b[39;00m \u001b[39mValueError\u001b[39;00m(\n\u001b[0;32m    431\u001b[0m         \u001b[39m\"\u001b[39m\u001b[39mhidden_layer_sizes must be > 0, got \u001b[39m\u001b[39m%s\u001b[39;00m\u001b[39m.\u001b[39m\u001b[39m\"\u001b[39m \u001b[39m%\u001b[39m hidden_layer_sizes\n\u001b[0;32m    432\u001b[0m     )\n\u001b[0;32m    433\u001b[0m first_pass \u001b[39m=\u001b[39m \u001b[39mnot\u001b[39;00m \u001b[39mhasattr\u001b[39m(\u001b[39mself\u001b[39m, \u001b[39m\"\u001b[39m\u001b[39mcoefs_\u001b[39m\u001b[39m\"\u001b[39m) \u001b[39mor\u001b[39;00m (\n\u001b[0;32m    434\u001b[0m     \u001b[39mnot\u001b[39;00m \u001b[39mself\u001b[39m\u001b[39m.\u001b[39mwarm_start \u001b[39mand\u001b[39;00m \u001b[39mnot\u001b[39;00m incremental\n\u001b[0;32m    435\u001b[0m )\n\u001b[1;32m--> 437\u001b[0m X, y \u001b[39m=\u001b[39m \u001b[39mself\u001b[39;49m\u001b[39m.\u001b[39;49m_validate_input(X, y, incremental, reset\u001b[39m=\u001b[39;49mfirst_pass)\n\u001b[0;32m    439\u001b[0m n_samples, n_features \u001b[39m=\u001b[39m X\u001b[39m.\u001b[39mshape\n\u001b[0;32m    441\u001b[0m \u001b[39m# Ensure y is 2D\u001b[39;00m\n",
      "File \u001b[1;32mc:\\Users\\nassa\\anaconda3\\envs\\ChE4230\\Lib\\site-packages\\sklearn\\neural_network\\_multilayer_perceptron.py:1118\u001b[0m, in \u001b[0;36mMLPClassifier._validate_input\u001b[1;34m(self, X, y, incremental, reset)\u001b[0m\n\u001b[0;32m   1116\u001b[0m \u001b[39mif\u001b[39;00m (\u001b[39mnot\u001b[39;00m \u001b[39mhasattr\u001b[39m(\u001b[39mself\u001b[39m, \u001b[39m\"\u001b[39m\u001b[39mclasses_\u001b[39m\u001b[39m\"\u001b[39m)) \u001b[39mor\u001b[39;00m (\u001b[39mnot\u001b[39;00m \u001b[39mself\u001b[39m\u001b[39m.\u001b[39mwarm_start \u001b[39mand\u001b[39;00m \u001b[39mnot\u001b[39;00m incremental):\n\u001b[0;32m   1117\u001b[0m     \u001b[39mself\u001b[39m\u001b[39m.\u001b[39m_label_binarizer \u001b[39m=\u001b[39m LabelBinarizer()\n\u001b[1;32m-> 1118\u001b[0m     \u001b[39mself\u001b[39;49m\u001b[39m.\u001b[39;49m_label_binarizer\u001b[39m.\u001b[39;49mfit(y)\n\u001b[0;32m   1119\u001b[0m     \u001b[39mself\u001b[39m\u001b[39m.\u001b[39mclasses_ \u001b[39m=\u001b[39m \u001b[39mself\u001b[39m\u001b[39m.\u001b[39m_label_binarizer\u001b[39m.\u001b[39mclasses_\n\u001b[0;32m   1120\u001b[0m \u001b[39melse\u001b[39;00m:\n",
      "File \u001b[1;32mc:\\Users\\nassa\\anaconda3\\envs\\ChE4230\\Lib\\site-packages\\sklearn\\preprocessing\\_label.py:311\u001b[0m, in \u001b[0;36mLabelBinarizer.fit\u001b[1;34m(self, y)\u001b[0m\n\u001b[0;32m    308\u001b[0m     \u001b[39mraise\u001b[39;00m \u001b[39mValueError\u001b[39;00m(\u001b[39m\"\u001b[39m\u001b[39my has 0 samples: \u001b[39m\u001b[39m%r\u001b[39;00m\u001b[39m\"\u001b[39m \u001b[39m%\u001b[39m y)\n\u001b[0;32m    310\u001b[0m \u001b[39mself\u001b[39m\u001b[39m.\u001b[39msparse_input_ \u001b[39m=\u001b[39m sp\u001b[39m.\u001b[39missparse(y)\n\u001b[1;32m--> 311\u001b[0m \u001b[39mself\u001b[39m\u001b[39m.\u001b[39mclasses_ \u001b[39m=\u001b[39m unique_labels(y)\n\u001b[0;32m    312\u001b[0m \u001b[39mreturn\u001b[39;00m \u001b[39mself\u001b[39m\n",
      "File \u001b[1;32mc:\\Users\\nassa\\anaconda3\\envs\\ChE4230\\Lib\\site-packages\\sklearn\\utils\\multiclass.py:107\u001b[0m, in \u001b[0;36munique_labels\u001b[1;34m(*ys)\u001b[0m\n\u001b[0;32m    105\u001b[0m _unique_labels \u001b[39m=\u001b[39m _FN_UNIQUE_LABELS\u001b[39m.\u001b[39mget(label_type, \u001b[39mNone\u001b[39;00m)\n\u001b[0;32m    106\u001b[0m \u001b[39mif\u001b[39;00m \u001b[39mnot\u001b[39;00m _unique_labels:\n\u001b[1;32m--> 107\u001b[0m     \u001b[39mraise\u001b[39;00m \u001b[39mValueError\u001b[39;00m(\u001b[39m\"\u001b[39m\u001b[39mUnknown label type: \u001b[39m\u001b[39m%s\u001b[39;00m\u001b[39m\"\u001b[39m \u001b[39m%\u001b[39m \u001b[39mrepr\u001b[39m(ys))\n\u001b[0;32m    109\u001b[0m \u001b[39mif\u001b[39;00m is_array_api:\n\u001b[0;32m    110\u001b[0m     \u001b[39m# array_api does not allow for mixed dtypes\u001b[39;00m\n\u001b[0;32m    111\u001b[0m     unique_ys \u001b[39m=\u001b[39m xp\u001b[39m.\u001b[39mconcat([_unique_labels(y) \u001b[39mfor\u001b[39;00m y \u001b[39min\u001b[39;00m ys])\n",
      "\u001b[1;31mValueError\u001b[0m: Unknown label type: (array([ 1.29292468, -1.29775896, -0.91777586,  0.56753982, -0.12331067,\n        0.76327338, -0.4226588 , -0.2960292 , -1.21713574,  0.13001927,\n       -0.8602266 , -0.38813632, -0.66446948, -1.22867863, -0.41116309,\n        0.82085802, -1.36682749,  1.07416433, -0.66445766, -0.19237926,\n        1.25839038,  0.30271417,  1.02812259, -0.6414427 , -0.28449812,\n       -0.89476083, -1.65469172,  0.11851175,  1.3504975 , -0.35359027,\n        0.84387298,  0.0494196 , -0.66446948,  1.03963011, -0.92929512,\n        0.26816813,  1.52320421, -0.7220423 , -0.7220423 , -0.37661705,\n        1.86862953, -0.18087175, -1.79286421,  1.16627145,  1.96074839,\n        1.15477575,  1.99527087,  0.70572412, -0.91778761, -0.90625653,\n       -1.85041348,  0.94751118, -0.37661705,  1.26990964, -0.18088356]),)"
     ]
    }
   ],
   "source": [
    "modelbuilder = ModelBuilder2()\n",
    "\n",
    "ann_model = modelbuilder.ann(X_train=train_scaled[:, :-1], X_test=test_scaled[:, :-1], y_train=train_scaled[:, -1], y_test = test_scaled[:, -1])\n",
    "\n",
    "modelbuilder.accuracy\n"
   ]
  }
 ],
 "metadata": {
  "kernelspec": {
   "display_name": "ChE4230",
   "language": "python",
   "name": "python3"
  },
  "language_info": {
   "codemirror_mode": {
    "name": "ipython",
    "version": 3
   },
   "file_extension": ".py",
   "mimetype": "text/x-python",
   "name": "python",
   "nbconvert_exporter": "python",
   "pygments_lexer": "ipython3",
   "version": "3.11.0"
  },
  "orig_nbformat": 4,
  "vscode": {
   "interpreter": {
    "hash": "746b2efdc1702fc56312ef124413f9e91e8f265bb12060389aade4a583314f2d"
   }
  }
 },
 "nbformat": 4,
 "nbformat_minor": 2
}
